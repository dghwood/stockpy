{
  "nbformat": 4,
  "nbformat_minor": 0,
  "metadata": {
    "colab": {
      "provenance": [],
      "mount_file_id": "1k-7zXPEIHmQN3TGHuZZc7GgQ71KCU9Ta",
      "authorship_tag": "ABX9TyM6Otqt9n1QwOX4Dzv7sa5o",
      "include_colab_link": true
    },
    "kernelspec": {
      "name": "python3",
      "display_name": "Python 3"
    },
    "language_info": {
      "name": "python"
    }
  },
  "cells": [
    {
      "cell_type": "markdown",
      "metadata": {
        "id": "view-in-github",
        "colab_type": "text"
      },
      "source": [
        "<a href=\"https://colab.research.google.com/github/dghwood/stockpy/blob/main/Example_Daily_Stock_Price_Data_Tiingo.ipynb\" target=\"_parent\"><img src=\"https://colab.research.google.com/assets/colab-badge.svg\" alt=\"Open In Colab\"/></a>"
      ]
    },
    {
      "cell_type": "code",
      "execution_count": 6,
      "metadata": {
        "id": "sdSgFud5P6aq"
      },
      "outputs": [],
      "source": [
        "import pandas as pd\n",
        "import numpy as np \n",
        "import datetime"
      ]
    },
    {
      "cell_type": "code",
      "source": [
        "SECRETS = !cat /content/drive/MyDrive/tiingo-api-key.txt\n",
        "API_KEY = SECRETS[0]"
      ],
      "metadata": {
        "id": "K4CrJRXlSQJr"
      },
      "execution_count": 14,
      "outputs": []
    },
    {
      "cell_type": "code",
      "source": [
        "def get_stock(ticker, \n",
        "              start_date = '2016-01-01', \n",
        "              end_date = datetime.datetime.now().strftime('%Y-%m-%d')):\n",
        "  \n",
        "  return pd.read_json(\n",
        "    'https://api.tiingo.com/tiingo/daily/' + \n",
        "    '{0}/prices?startDate={1}&endDate={2}&token={3}'.format( \n",
        "        ticker, \n",
        "        start_date, \n",
        "        end_date, \n",
        "        API_KEY \n",
        "    )\n",
        "  ).drop(\n",
        "      columns = ['close', 'high', 'low', 'open', 'volume']\n",
        "  ).rename(\n",
        "      columns = {\n",
        "          'adjClose': 'close',\n",
        "          'adjHigh': 'high',\n",
        "          'adjLow': 'low',\n",
        "          'adjOpen': 'open',\n",
        "          'adjVolume': 'volume'\n",
        "      }\n",
        "  )"
      ],
      "metadata": {
        "id": "8j-Y1mjUQIqo"
      },
      "execution_count": 49,
      "outputs": []
    },
    {
      "cell_type": "code",
      "source": [
        "goog = get_stock('GOOG')\n",
        "goog.plot.line(x = 'date', y = 'close')"
      ],
      "metadata": {
        "colab": {
          "base_uri": "https://localhost:8080/",
          "height": 287
        },
        "id": "mPG1BO79QJ15",
        "outputId": "2464d019-4e51-41cd-aa54-5d942a00cdd6"
      },
      "execution_count": 50,
      "outputs": [
        {
          "output_type": "execute_result",
          "data": {
            "text/plain": [
              "<matplotlib.axes._subplots.AxesSubplot at 0x7f0dbbfc14d0>"
            ]
          },
          "metadata": {},
          "execution_count": 50
        },
        {
          "output_type": "display_data",
          "data": {
            "text/plain": [
              "<Figure size 432x288 with 1 Axes>"
            ],
            "image/png": "[encoded data removed]"
          },
          "metadata": {
            "needs_background": "light"
          }
        }
      ]
    },
    {
      "cell_type": "code",
      "source": [],
      "metadata": {
        "id": "rsgaDThkWJjA"
      },
      "execution_count": null,
      "outputs": []
    }
  ]
}